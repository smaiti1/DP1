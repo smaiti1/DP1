{
 "cells": [
  {
   "cell_type": "markdown",
   "metadata": {},
   "source": [
    "# Subset Sum"
   ]
  },
  {
   "cell_type": "code",
   "execution_count": 8,
   "metadata": {
    "collapsed": true
   },
   "outputs": [],
   "source": [
    "def subsetsum(array,num):\n",
    "\n",
    "    if num < 1:\n",
    "        return False\n",
    "    \n",
    "    elif len(array) == 0:\n",
    "        return False\n",
    "    \n",
    "    else:\n",
    "        if array[0] == num:\n",
    "            return True\n",
    "        else:\n",
    "            return subsetsum(array[1:],(num - array[0])) or subsetsum(array[1:],num)"
   ]
  },
  {
   "cell_type": "code",
   "execution_count": 9,
   "metadata": {
    "collapsed": false
   },
   "outputs": [
    {
     "data": {
      "text/plain": [
       "False"
      ]
     },
     "execution_count": 9,
     "metadata": {},
     "output_type": "execute_result"
    }
   ],
   "source": [
    "subsetsum([2,3,7,8,10],16)"
   ]
  },
  {
   "cell_type": "code",
   "execution_count": 50,
   "metadata": {
    "collapsed": true
   },
   "outputs": [],
   "source": [
    "def subsetsum(array,num):\n",
    "    \n",
    "    array.sort(reverse=True)\n",
    "\n",
    "    if num < 1:\n",
    "        return None\n",
    "    \n",
    "    elif len(array) == 0:\n",
    "        return None\n",
    "    \n",
    "    else:\n",
    "        \n",
    "        if array[0] == num:\n",
    "            return [array[0]]\n",
    "        \n",
    "        else:\n",
    "            with_v = subsetsum(array[1:],(num - array[0])) \n",
    "            \n",
    "            if with_v:\n",
    "                return [array[0]] + with_v\n",
    "            else:\n",
    "                return subsetsum(array[1:],num)"
   ]
  },
  {
   "cell_type": "code",
   "execution_count": 51,
   "metadata": {
    "collapsed": false
   },
   "outputs": [
    {
     "data": {
      "text/plain": [
       "[10, 3, 2]"
      ]
     },
     "execution_count": 51,
     "metadata": {},
     "output_type": "execute_result"
    }
   ],
   "source": [
    "subsetsum([2,3,7,8,10],15)"
   ]
  },
  {
   "cell_type": "code",
   "execution_count": 66,
   "metadata": {
    "collapsed": true
   },
   "outputs": [],
   "source": [
    "def subpart(arr,k):\n",
    "    \n",
    "    if k<2:\n",
    "        return arr\n",
    "    \n",
    "    elif sum(arr)%k !=0 or len(arr)==0:\n",
    "        return []\n",
    "    \n",
    "    else:\n",
    "        \n",
    "        s=subsetsum(arr,sum(arr)/k)\n",
    "\n",
    "        for num in s:\n",
    "            arr.pop(arr.index(num))\n",
    "        \n",
    "        print s,arr\n",
    "        \n",
    "        return s, subpart(arr,k-1)"
   ]
  },
  {
   "cell_type": "code",
   "execution_count": 70,
   "metadata": {
    "collapsed": false
   },
   "outputs": [
    {
     "name": "stdout",
     "output_type": "stream",
     "text": [
      "[8, 1] [7, 5, 4, 3, 3, 2, 2, 1]\n",
      "[7, 2] [5, 4, 3, 3, 2, 1]\n",
      "[5, 4] [3, 3, 2, 1]\n"
     ]
    },
    {
     "data": {
      "text/plain": [
       "([8, 1], ([7, 2], ([5, 4], [3, 3, 2, 1])))"
      ]
     },
     "execution_count": 70,
     "metadata": {},
     "output_type": "execute_result"
    }
   ],
   "source": [
    "subpart([1,2,5,2,3,4,1,7,8,3],4)"
   ]
  },
  {
   "cell_type": "markdown",
   "metadata": {},
   "source": [
    "# Memoized DP Fibonacci"
   ]
  },
  {
   "cell_type": "code",
   "execution_count": 78,
   "metadata": {
    "collapsed": true
   },
   "outputs": [],
   "source": [
    "memo ={}\n",
    "\n",
    "def fibo(n):\n",
    "    \n",
    "    if n in memo:\n",
    "        return memo[n]\n",
    "    \n",
    "    if n<=2:\n",
    "        f=1\n",
    "    else:\n",
    "        f=fibo(n-1)+fibo(n-2)\n",
    "        \n",
    "    memo[n]=f\n",
    "    \n",
    "    return f"
   ]
  },
  {
   "cell_type": "code",
   "execution_count": 86,
   "metadata": {
    "collapsed": false
   },
   "outputs": [
    {
     "data": {
      "text/plain": [
       "43466557686937456435688527675040625802564660517371780402481729089536555417949051890403879840079255169295922593080322634775209689623239873322471161642996440906533187938298969649928516003704476137795166849228875L"
      ]
     },
     "execution_count": 86,
     "metadata": {},
     "output_type": "execute_result"
    }
   ],
   "source": [
    "fibo(1000)"
   ]
  },
  {
   "cell_type": "code",
   "execution_count": null,
   "metadata": {
    "collapsed": false
   },
   "outputs": [],
   "source": []
  },
  {
   "cell_type": "code",
   "execution_count": null,
   "metadata": {
    "collapsed": true
   },
   "outputs": [],
   "source": []
  }
 ],
 "metadata": {
  "kernelspec": {
   "display_name": "Python 2",
   "language": "python",
   "name": "python2"
  },
  "language_info": {
   "codemirror_mode": {
    "name": "ipython",
    "version": 2
   },
   "file_extension": ".py",
   "mimetype": "text/x-python",
   "name": "python",
   "nbconvert_exporter": "python",
   "pygments_lexer": "ipython2",
   "version": "2.7.12"
  }
 },
 "nbformat": 4,
 "nbformat_minor": 0
}
